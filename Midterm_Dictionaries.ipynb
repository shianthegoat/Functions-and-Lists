{
 "cells": [
  {
   "cell_type": "code",
   "execution_count": null,
   "id": "98e32d55-0bf1-4d96-8817-75da89e4974d",
   "metadata": {},
   "outputs": [
    {
     "name": "stdin",
     "output_type": "stream",
     "text": [
      "Enter the number of students:  3\n",
      "Enter the name of the student:  Alex\n",
      "Enter the grade for Alex:  93.67\n",
      "Enter the name of the student:  Bob\n",
      "Enter the grade for Bob:  56.90\n",
      "Enter the name of the student:  Charlie\n",
      "Enter the grade for Charlie:  75.12\n"
     ]
    },
    {
     "name": "stdout",
     "output_type": "stream",
     "text": [
      "\n",
      "Options\n",
      "1. Add a student\n",
      "2. Remove a student\n",
      "3. Show Statistics\n",
      "4. Exit\n"
     ]
    },
    {
     "name": "stdin",
     "output_type": "stream",
     "text": [
      "Choose an option (1-4):  3\n"
     ]
    },
    {
     "name": "stdout",
     "output_type": "stream",
     "text": [
      "\n",
      "=== Classroom Statistics ===\n",
      "Highest score: 93.67\n",
      "Lowest score: 56.9\n",
      "Average score: 75.23\n",
      "\n",
      "Options\n",
      "1. Add a student\n",
      "2. Remove a student\n",
      "3. Show Statistics\n",
      "4. Exit\n"
     ]
    },
    {
     "name": "stdin",
     "output_type": "stream",
     "text": [
      "Choose an option (1-4):  1\n",
      "Enter the name of the new student:  Sophia\n",
      "Enter the grade for the new student:  99.87\n"
     ]
    },
    {
     "name": "stdout",
     "output_type": "stream",
     "text": [
      "Sophia has been added.\n",
      "\n",
      "Options\n",
      "1. Add a student\n",
      "2. Remove a student\n",
      "3. Show Statistics\n",
      "4. Exit\n"
     ]
    },
    {
     "name": "stdin",
     "output_type": "stream",
     "text": [
      "Choose an option (1-4):  3\n"
     ]
    },
    {
     "name": "stdout",
     "output_type": "stream",
     "text": [
      "\n",
      "=== Classroom Statistics ===\n",
      "Highest score: 99.87\n",
      "Lowest score: 56.9\n",
      "Average score: 81.39\n",
      "\n",
      "Options\n",
      "1. Add a student\n",
      "2. Remove a student\n",
      "3. Show Statistics\n",
      "4. Exit\n"
     ]
    }
   ],
   "source": [
    "def getStudentGrades():\n",
    "    student_grades = {}\n",
    "    number_of_students = int(input(\"Enter the number of students: \"))\n",
    "\n",
    "    for _ in range(number_of_students):\n",
    "        studentName = input(\"Enter the name of the student: \")\n",
    "        studentGrade = float(input(f\"Enter the grade for {studentName}: \"))\n",
    "        student_grades[studentName] = studentGrade\n",
    "        \n",
    "    return student_grades\n",
    "\n",
    "def displayStat(student_grades):\n",
    "    if student_grades:\n",
    "        highest = max(student_grades.values())\n",
    "        lowest = min(student_grades.values())\n",
    "        average = sum(student_grades.values()) / len(student_grades)\n",
    "\n",
    "        print(\"\\n=== Classroom Statistics ===\")\n",
    "        print(f\"Highest score: {highest}\")\n",
    "        print(f\"Lowest score: {lowest}\")\n",
    "        print(f\"Average score: {average}\")\n",
    "    else:\n",
    "        print(\"No student in the list!\")\n",
    "\n",
    "def modifyStudentList(student_grades):\n",
    "    while True:\n",
    "        print(\"\\nOptions\")\n",
    "        print(\"1. Add a student\")\n",
    "        print(\"2. Remove a student\")\n",
    "        print(\"3. Show Statistics\")\n",
    "        print(\"4. Exit\")\n",
    "\n",
    "        choice = int(input(\"Choose an option (1-4): \"))\n",
    "\n",
    "        if choice == 1:\n",
    "            studentName = input(\"Enter the name of the new student: \")\n",
    "            studentGrade = float(input(\"Enter the grade for the new student: \"))\n",
    "            student_grades[studentName] = studentGrade\n",
    "            print(f\"{studentName} has been added.\")\n",
    "\n",
    "        elif choice == 2:\n",
    "            studentName = input(\"Enter the name of the student to remove: \")\n",
    "            if studentName in student_grades:\n",
    "                del student_grades[studentName]\n",
    "                print(f\"{studentName} has been removed.\")\n",
    "            else:\n",
    "                print(f\"{studentName} not found!\")\n",
    "\n",
    "        elif choice == 3:\n",
    "            displayStat(student_grades)\n",
    "\n",
    "        elif choice == 4:\n",
    "            print(\"Exiting System Menu\")\n",
    "\n",
    "        else:\n",
    "            break\n",
    "\n",
    "students = getStudentGrades()\n",
    "modifyStudentList(students)"
   ]
  },
  {
   "cell_type": "code",
   "execution_count": null,
   "id": "e8a03526-0cf2-4bdd-b3eb-86e18813434a",
   "metadata": {},
   "outputs": [],
   "source": []
  }
 ],
 "metadata": {
  "kernelspec": {
   "display_name": "Python 3 (ipykernel)",
   "language": "python",
   "name": "python3"
  },
  "language_info": {
   "codemirror_mode": {
    "name": "ipython",
    "version": 3
   },
   "file_extension": ".py",
   "mimetype": "text/x-python",
   "name": "python",
   "nbconvert_exporter": "python",
   "pygments_lexer": "ipython3",
   "version": "3.12.10"
  }
 },
 "nbformat": 4,
 "nbformat_minor": 5
}
