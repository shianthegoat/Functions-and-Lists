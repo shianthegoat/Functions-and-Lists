{
 "cells": [
  {
   "cell_type": "code",
   "execution_count": null,
   "id": "1ea946cd-1277-4583-97f0-4598e2a32b81",
   "metadata": {},
   "outputs": [
    {
     "name": "stdin",
     "output_type": "stream",
     "text": [
      "Enter the name of the fruit (or type 'done' to finish):  banana\n",
      "Enter the name of the fruit (or type 'done' to finish):  apple\n",
      "Enter the name of the fruit (or type 'done' to finish):  durian\n",
      "Enter the name of the fruit (or type 'done' to finish):  done\n"
     ]
    },
    {
     "name": "stdout",
     "output_type": "stream",
     "text": [
      "\n",
      "Current fruit lists:  ['banana', 'apple', 'durian']\n",
      "Options: \n",
      "1. Insert a fruit in a specific index\n",
      "2. Sort the fruit list\n",
      "3. Remove a fruit in the list\n",
      "4. Exit\n"
     ]
    },
    {
     "name": "stdin",
     "output_type": "stream",
     "text": [
      "Choose an option (1-4):  2\n"
     ]
    },
    {
     "name": "stdout",
     "output_type": "stream",
     "text": [
      "Fruit list sorted!\n",
      "\n",
      "Current fruit lists:  ['durian', 'banana', 'apple']\n",
      "Options: \n",
      "1. Insert a fruit in a specific index\n",
      "2. Sort the fruit list\n",
      "3. Remove a fruit in the list\n",
      "4. Exit\n"
     ]
    }
   ],
   "source": [
    "def input_fruits():\n",
    "    fruits = [] # An empty list that is named as 'fruits'\n",
    "    while True:\n",
    "        user_input = input(\"Enter the name of the fruit (or type 'done' to finish): \")\n",
    "        if user_input == \"done\": # If user inputs 'done', the code stops and displays results\n",
    "            break \n",
    "\n",
    "        fruit = user_input # Sets the variable 'fruit' to the user input\n",
    "        fruits.append(fruit) # Inserts the user inputs inside the empty fruit list\n",
    "    return fruits # This returns the value of 'fruits' list\n",
    "\n",
    "def modify_fruit_list(fruits):\n",
    "    while True:\n",
    "        print(\"\\nCurrent fruit lists: \", fruits) # Displays the list of fruits that the user has inputted \n",
    "        print(\"Options: \")\n",
    "        print(\"1. Insert a fruit in a specific index\")\n",
    "        print(\"2. Sort the fruit list\")\n",
    "        print(\"3. Remove a fruit in the list\")\n",
    "        print(\"4. Exit\")\n",
    "\n",
    "        choice = int(input(\"Choose an option (1-4): \")) # A variable called 'choice' stores the user input\n",
    "\n",
    "        if choice == \"1\":\n",
    "            try:\n",
    "                index = int(input(\"Enter the index to insert at: \"))\n",
    "                fruit_name = input(\"Enter the fruit name: \")\n",
    "                fruits.insert(index, fruit_name)\n",
    "            except:\n",
    "                print(\"Invalid index! Please enter a valid integer.\")\n",
    "        elif choice == \"2\":\n",
    "            fruits.sort(reverse=True)\n",
    "            print(\"Fruit list sorted!\")\n",
    "        elif choice == \"3\":\n",
    "            fruit_name = input(\"Enter the fruit to remove: \")\n",
    "            if fruit_name in fruits:\n",
    "                fruits.remove(fruit_name)\n",
    "                print(f\"{fruit_name} removed!\")\n",
    "            else:\n",
    "                print(f\"{fruit_name} not found in the list!\")\n",
    "        elif choice == \"4\":\n",
    "            print(\"Exiting modification menu.\")\n",
    "            break\n",
    "        else:\n",
    "            prit(\"Invalid choice! Please enter a number from 1 to 4.\")\n",
    "\n",
    "fruit_list = input_fruits()\n",
    "modify_fruit_list(fruit_list)\n",
    "            \n"
   ]
  },
  {
   "cell_type": "code",
   "execution_count": null,
   "id": "55926a24-89a4-4450-9c39-7c0643d08937",
   "metadata": {},
   "outputs": [],
   "source": []
  }
 ],
 "metadata": {
  "kernelspec": {
   "display_name": "Python 3 (ipykernel)",
   "language": "python",
   "name": "python3"
  },
  "language_info": {
   "codemirror_mode": {
    "name": "ipython",
    "version": 3
   },
   "file_extension": ".py",
   "mimetype": "text/x-python",
   "name": "python",
   "nbconvert_exporter": "python",
   "pygments_lexer": "ipython3",
   "version": "3.12.10"
  }
 },
 "nbformat": 4,
 "nbformat_minor": 5
}
